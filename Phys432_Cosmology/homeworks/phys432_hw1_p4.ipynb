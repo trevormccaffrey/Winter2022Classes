{
 "cells": [
  {
   "cell_type": "code",
   "execution_count": 14,
   "id": "3bb3e0b1",
   "metadata": {},
   "outputs": [],
   "source": [
    "from astropy.cosmology import FlatLambdaCDM\n",
    "import numpy as np"
   ]
  },
  {
   "cell_type": "code",
   "execution_count": 55,
   "id": "c4600385",
   "metadata": {},
   "outputs": [],
   "source": [
    "cosmo = FlatLambdaCDM(H0=70, Om0=0.3)\n",
    "r1 = cosmo.luminosity_distance(0.2).value ; r2 = cosmo.luminosity_distance(0.3).value"
   ]
  },
  {
   "cell_type": "code",
   "execution_count": 56,
   "id": "9676a443",
   "metadata": {},
   "outputs": [
    {
     "data": {
      "text/plain": [
       "(980.0678868655586, 1552.7159306297997)"
      ]
     },
     "execution_count": 56,
     "metadata": {},
     "output_type": "execute_result"
    }
   ],
   "source": [
    "r1, r2 #in Mpc"
   ]
  },
  {
   "cell_type": "code",
   "execution_count": 51,
   "id": "466a8d5d",
   "metadata": {},
   "outputs": [
    {
     "data": {
      "text/plain": [
       "2484525812.095856"
      ]
     },
     "execution_count": 51,
     "metadata": {},
     "output_type": "execute_result"
    }
   ],
   "source": [
    "Vmax = (2.66/(4*np.pi))*(4/3)*np.pi*(r2**3-r1**3)\n",
    "Vmax"
   ]
  },
  {
   "cell_type": "code",
   "execution_count": 52,
   "id": "bbbb5ac4",
   "metadata": {},
   "outputs": [
    {
     "data": {
      "text/plain": [
       "-7.723145655117082"
      ]
     },
     "execution_count": 52,
     "metadata": {},
     "output_type": "execute_result"
    }
   ],
   "source": [
    "np.log10(47/Vmax)"
   ]
  },
  {
   "cell_type": "code",
   "execution_count": 53,
   "id": "07462e51",
   "metadata": {},
   "outputs": [],
   "source": [
    "Vmpc = 0.572*(1000/1)**3"
   ]
  },
  {
   "cell_type": "code",
   "execution_count": 54,
   "id": "e91dd3b3",
   "metadata": {},
   "outputs": [
    {
     "data": {
      "text/plain": [
       "-7.6782147827454"
      ]
     },
     "execution_count": 54,
     "metadata": {},
     "output_type": "execute_result"
    }
   ],
   "source": [
    "np.log10(12/Vmpc)"
   ]
  },
  {
   "cell_type": "code",
   "execution_count": null,
   "id": "66101d61",
   "metadata": {},
   "outputs": [],
   "source": []
  }
 ],
 "metadata": {
  "kernelspec": {
   "display_name": "Python 3",
   "language": "python",
   "name": "python3"
  },
  "language_info": {
   "codemirror_mode": {
    "name": "ipython",
    "version": 3
   },
   "file_extension": ".py",
   "mimetype": "text/x-python",
   "name": "python",
   "nbconvert_exporter": "python",
   "pygments_lexer": "ipython3",
   "version": "3.6.10"
  }
 },
 "nbformat": 4,
 "nbformat_minor": 5
}
